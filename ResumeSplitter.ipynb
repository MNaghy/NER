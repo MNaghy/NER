{
 "cells": [
  {
   "cell_type": "code",
   "execution_count": 1,
   "id": "158ba8be",
   "metadata": {},
   "outputs": [],
   "source": [
    "import json"
   ]
  },
  {
   "cell_type": "code",
   "execution_count": 2,
   "id": "6e8c7294",
   "metadata": {},
   "outputs": [],
   "source": [
    "f=open('All_Cleaned.json')\n",
    "jsonData=json.load(f)"
   ]
  },
  {
   "cell_type": "code",
   "execution_count": 3,
   "id": "a08f06ae",
   "metadata": {},
   "outputs": [],
   "source": [
    "keywords={}\n",
    "keywords['Summary']=['  Summary  ', '  Professional Summary  ', '  Executive Profile  ']\n",
    "keywords['Experience']=['  Experience  ', '  Professional Experience  ', '  Work History  ']\n",
    "keywords['Education']=['  Education  ']\n",
    "keywords['Skills']=['  Skills  ', '  Technical Skills  ']"
   ]
  },
  {
   "cell_type": "code",
   "execution_count": 4,
   "id": "b790503c",
   "metadata": {},
   "outputs": [],
   "source": [
    "def GenerateResumeFields (cv):\n",
    "    SearchResult=[]\n",
    "    for key, value in keywords.items():\n",
    "        for word in value:\n",
    "            foundAt=cv.find(word)\n",
    "            if foundAt>0:\n",
    "                SearchResult.append([key, foundAt])\n",
    "    SearchResult.sort(key=lambda x:x[1])\n",
    "    output={}\n",
    "    for i in range(len(SearchResult)):\n",
    "        start=SearchResult[i][1]\n",
    "        end= i+1==len(SearchResult) and len(cv) or SearchResult[i+1][1]\n",
    "        output[SearchResult[i][0]] = cv[start:end];\n",
    "    if len(output)>=3:\n",
    "        return output\n",
    "    else:\n",
    "        return None "
   ]
  },
  {
   "cell_type": "code",
   "execution_count": 5,
   "id": "a828c7af",
   "metadata": {},
   "outputs": [],
   "source": [
    "def WriteToFile(array, path):\n",
    "    json_object = json.dumps(array, indent = 4)\n",
    "    with open(path, \"w\") as outfile:\n",
    "        outfile.write(json_object)"
   ]
  },
  {
   "cell_type": "code",
   "execution_count": 6,
   "id": "82be76ee",
   "metadata": {},
   "outputs": [
    {
     "name": "stdout",
     "output_type": "stream",
     "text": [
      "1460\n",
      "756\n",
      "442\n",
      "2658\n"
     ]
    }
   ],
   "source": [
    "arr=[]\n",
    "negativeArr=[]\n",
    "shit=0\n",
    "for cv in jsonData:\n",
    "    cleanedResume=cv['Cleaned_Resume']\n",
    "    output=GenerateResumeFields(cleanedResume)\n",
    "    if output!=None: \n",
    "        finalOutput={**cv, **output}\n",
    "        if len(output)>3:\n",
    "            arr.append(finalOutput)\n",
    "        else: \n",
    "            negativeArr.append(finalOutput)  \n",
    "    else:\n",
    "        shit+=1\n",
    "WriteToFile(arr, './positive.json')\n",
    "WriteToFile(negativeArr, './negative.json')\n",
    "print(len(arr))\n",
    "print(len(negativeArr))\n",
    "print(shit)\n",
    "print(len(arr)+len(negativeArr)+shit)"
   ]
  },
  {
   "cell_type": "code",
   "execution_count": null,
   "id": "cbd9c409",
   "metadata": {},
   "outputs": [],
   "source": []
  }
 ],
 "metadata": {
  "kernelspec": {
   "display_name": "Python 3",
   "language": "python",
   "name": "python3"
  },
  "language_info": {
   "codemirror_mode": {
    "name": "ipython",
    "version": 3
   },
   "file_extension": ".py",
   "mimetype": "text/x-python",
   "name": "python",
   "nbconvert_exporter": "python",
   "pygments_lexer": "ipython3",
   "version": "3.8.8"
  }
 },
 "nbformat": 4,
 "nbformat_minor": 5
}
